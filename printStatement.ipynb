{
 "cells": [
  {
   "cell_type": "code",
   "execution_count": 1,
   "id": "cbe00928-e386-4c83-bbb3-342dbfd736b4",
   "metadata": {},
   "outputs": [
    {
     "name": "stdout",
     "output_type": "stream",
     "text": [
      "my name is Ria\n"
     ]
    }
   ],
   "source": [
    "print(\"my name is Ria\")"
   ]
  },
  {
   "cell_type": "code",
   "execution_count": 2,
   "id": "3d7f8196-952d-4717-a8c3-4bd9768caa39",
   "metadata": {},
   "outputs": [
    {
     "name": "stdout",
     "output_type": "stream",
     "text": [
      "Enter Hours: 35\n",
      "Enter Rate: 2.75\n"
     ]
    },
    {
     "name": "stdout",
     "output_type": "stream",
     "text": [
      "Pay: 96.25\n"
     ]
    }
   ],
   "source": [
    "hrs = input(\"Enter Hours:\")\n",
    "rate= input(\"Enter Rate:\")\n",
    "hrs=float(hrs)\n",
    "rate=float(rate)\n",
    "pay=hrs*rate\n",
    "print(\"Pay:\",pay)"
   ]
  },
  {
   "cell_type": "code",
   "execution_count": 1,
   "id": "28722976-4ef6-44f9-bef0-bac2e80767cd",
   "metadata": {},
   "outputs": [
    {
     "name": "stdout",
     "output_type": "stream",
     "text": [
      "96.25\n"
     ]
    }
   ],
   "source": [
    "hrs = input(\"Enter Hours:\")\n",
    "h = float(hrs)\n",
    "rate = input(\"enter rate:\")\n",
    "r=float(rate)\n",
    "if h<40:\n",
    "    cost=r*h\n",
    "else:\n",
    "    cost=r*40+r*(h-40)*1.5\n",
    "print(cost)"
   ]
  },
  {
   "cell_type": "code",
   "execution_count": 4,
   "id": "70570010-bac0-4308-8dc6-3bfd1581d390",
   "metadata": {},
   "outputs": [
    {
     "name": "stdout",
     "output_type": "stream",
     "text": [
      "Enter Score:  0.85\n"
     ]
    },
    {
     "name": "stdout",
     "output_type": "stream",
     "text": [
      "B\n"
     ]
    }
   ],
   "source": [
    "score = input(\"Enter Score: \")\n",
    "s=float(score)\n",
    "if s>=0.9:\n",
    "    grade='A'\n",
    "elif s>=0.8:\n",
    "    grade='B'\n",
    "elif s>=0.7:\n",
    "    grade='C'\n",
    "elif s>=0.6:\n",
    "    grade='D'\n",
    "elif s<0.6:\n",
    "    grade='F'\n",
    "else:\n",
    "    print(\"error\")\n",
    "print(grade)"
   ]
  },
  {
   "cell_type": "code",
   "execution_count": 5,
   "id": "16e87676-4ef4-42fe-b618-400016ed9705",
   "metadata": {},
   "outputs": [
    {
     "name": "stdout",
     "output_type": "stream",
     "text": [
      "Enter Hours: 45\n",
      "Enter rate per hour 10.50\n"
     ]
    },
    {
     "name": "stdout",
     "output_type": "stream",
     "text": [
      "Pay 498.75\n"
     ]
    }
   ],
   "source": [
    "def computepay(h, r):\n",
    "    if h<=40:\n",
    "        pay=h*r\n",
    "    else:\n",
    "        pay=40*r+(h-40)*r*1.5\n",
    "    return pay\n",
    "\n",
    "hrs = input(\"Enter Hours:\")\n",
    "rate = input(\"Enter rate per hour\")\n",
    "h= float(hrs)\n",
    "r= float(rate)\n",
    "p = computepay(h, r)\n",
    "print(\"Pay\", p)"
   ]
  },
  {
   "cell_type": "code",
   "execution_count": 6,
   "id": "c199146c-81d0-4df7-86b4-a5459453a22f",
   "metadata": {},
   "outputs": [
    {
     "name": "stdout",
     "output_type": "stream",
     "text": [
      "Enter a number:  7\n",
      "Enter a number:  2\n",
      "Enter a number:  bob\n"
     ]
    },
    {
     "name": "stdout",
     "output_type": "stream",
     "text": [
      "Invalid input\n"
     ]
    },
    {
     "name": "stdout",
     "output_type": "stream",
     "text": [
      "Enter a number:  10\n",
      "Enter a number:  4\n",
      "Enter a number:  done\n"
     ]
    },
    {
     "name": "stdout",
     "output_type": "stream",
     "text": [
      "Maximum is 10\n",
      "Minimum is 2\n"
     ]
    }
   ],
   "source": [
    "largest = None\n",
    "smallest = None\n",
    "\n",
    "while True:\n",
    "    num = input(\"Enter a number: \")\n",
    "    if num == \"done\":\n",
    "        break\n",
    "    try:\n",
    "        num = int(num)  # Convert input to an integer\n",
    "    except ValueError:\n",
    "        print(\"Invalid input\")\n",
    "        continue  # Skip to the next iteration\n",
    "    \n",
    "    if largest is None or num > largest:\n",
    "        largest = num\n",
    "    if smallest is None or num < smallest:\n",
    "        smallest = num\n",
    "\n",
    "print(\"Maximum is\", largest)\n",
    "print(\"Minimum is\", smallest)\n"
   ]
  },
  {
   "cell_type": "code",
   "execution_count": 7,
   "id": "52f36ca7-ec0b-4e82-b8e2-c2b450e1469e",
   "metadata": {},
   "outputs": [
    {
     "name": "stdout",
     "output_type": "stream",
     "text": [
      "0.8475\n"
     ]
    }
   ],
   "source": [
    "text = \"X-DSPAM-Confidence:    0.8475\"\n",
    "pos=text.find('0')\n",
    "num=text[pos:pos+7]\n",
    "n=float(num)\n",
    "print(n)"
   ]
  },
  {
   "cell_type": "code",
   "execution_count": null,
   "id": "50d97572-137e-4ea0-b3ef-ef040cd7f5ca",
   "metadata": {},
   "outputs": [],
   "source": [
    "# Use words.txt as the file name\n",
    "fname = input(\"Enter file name: \")\n",
    "fh = open(fname)\n",
    "for i in fh:\n",
    "   print(i.upper().strip())"
   ]
  },
  {
   "cell_type": "code",
   "execution_count": null,
   "id": "8bbfcc89-1b50-4dee-bcef-f6a127917441",
   "metadata": {},
   "outputs": [],
   "source": [
    "# Use the file name mbox-short.txt as the file name\n",
    "fname = input(\"Enter file name: \")\n",
    "fh = open(fname)\n",
    "total=0\n",
    "count=0\n",
    "for line in fh:\n",
    "     if line.startswith(\"X-DSPAM-Confidence:\"):\n",
    "        colon_pos = line.find(\":\")\n",
    "        number = float(line[colon_pos+1:])\n",
    "        total += number  \n",
    "        count += 1  \n",
    "\n",
    "if count > 0:\n",
    "    average = total / count\n",
    "    print(\"Average spam confidence:\", average)\n",
    "else:\n",
    "    print(\"No matching lines found.\")"
   ]
  },
  {
   "cell_type": "code",
   "execution_count": null,
   "id": "200af577-b1a6-4ebf-9d1e-a681e4f45ebf",
   "metadata": {},
   "outputs": [],
   "source": [
    "fname = input(\"Enter file name: \")\n",
    "try:\n",
    "    fhand = open(fname)\n",
    "except:\n",
    "    print(\"File cannot be opened:\", fname)\n",
    "    quit()\n",
    "\n",
    "word_list = []\n",
    "\n",
    "for line in fhand:\n",
    "    words = line.split()  # Split the line into words\n",
    "    for word in words:\n",
    "        if word not in word_list:\n",
    "            word_list.append(word)  # Add only unique words\n",
    "\n",
    "word_list.sort()  # Sort the list alphabetically\n",
    "print(word_list)\n"
   ]
  },
  {
   "cell_type": "code",
   "execution_count": null,
   "id": "eb91dd24-7259-4011-80e0-961997ff64ab",
   "metadata": {},
   "outputs": [],
   "source": [
    "fname = input(\"Enter file name: \")\n",
    "try:\n",
    "    fhand = open(fname)\n",
    "except:\n",
    "    print(\"File cannot be opened:\", fname)\n",
    "    quit()\n",
    "\n",
    "count = 0\n",
    "\n",
    "for line in fhand:\n",
    "    if line.startswith(\"From \"):\n",
    "        words = line.split()\n",
    "        if len(words) > 1:\n",
    "            print(words[1])  \n",
    "            count += 1\n",
    "\n",
    "print(\"There were\", count, \"lines in the file with From as the first word\")\n"
   ]
  },
  {
   "cell_type": "code",
   "execution_count": null,
   "id": "b9a42624",
   "metadata": {},
   "outputs": [],
   "source": [
    "name = input(\"Enter file: \")\n",
    "handle = open(name)\n",
    "\n",
    "emailcount = {}\n",
    "\n",
    "for line in handle: \n",
    "    if line.startswith('From '):  \n",
    "        words = line.split()\n",
    "        if len(words) > 1:  \n",
    "            email = words[1]\n",
    "            emailcount[email] = emailcount.get(email, 0) + 1\n",
    "\n",
    "maxCount = 0\n",
    "maxSender = None\n",
    "\n",
    "for email, count in emailcount.items():  \n",
    "    if count > maxCount:\n",
    "        maxCount = count\n",
    "        maxSender = email\n",
    "\n",
    "print(maxSender, maxCount)  \n"
   ]
  }
 ],
 "metadata": {
  "kernelspec": {
   "display_name": "base",
   "language": "python",
   "name": "python3"
  },
  "language_info": {
   "codemirror_mode": {
    "name": "ipython",
    "version": 3
   },
   "file_extension": ".py",
   "mimetype": "text/x-python",
   "name": "python",
   "nbconvert_exporter": "python",
   "pygments_lexer": "ipython3",
   "version": "3.12.7"
  }
 },
 "nbformat": 4,
 "nbformat_minor": 5
}
