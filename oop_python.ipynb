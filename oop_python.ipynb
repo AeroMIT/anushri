{
 "cells": [
  {
   "cell_type": "code",
   "execution_count": 3,
   "metadata": {},
   "outputs": [
    {
     "name": "stdout",
     "output_type": "stream",
     "text": [
      "<class '__main__.Item'>\n",
      "<class 'str'>\n",
      "<class 'int'>\n",
      "<class 'int'>\n"
     ]
    }
   ],
   "source": [
    "# how to create our own data type\n",
    "# how to assign attribute to instances\n",
    "class Item:\n",
    "    pass\n",
    "\n",
    "item1 = Item()\n",
    "item1.name = \"Phone\"\n",
    "item1.price = 100\n",
    "item1.quantity = 5\n",
    "\n",
    "print(type(item1))\n",
    "print(type(item1.name))\n",
    "print(type(item1.price))\n",
    "print(type(item1.quantity))\n"
   ]
  },
  {
   "cell_type": "code",
   "execution_count": null,
   "metadata": {},
   "outputs": [
    {
     "name": "stdout",
     "output_type": "stream",
     "text": [
      "500\n",
      "<class '__main__.Item'>\n",
      "<class 'str'>\n",
      "<class 'int'>\n",
      "<class 'int'>\n"
     ]
    }
   ],
   "source": [
    "# how to creat methods and execute them on instances \n",
    "class Item:\n",
    "    def calculate_total_price(self,x,y):\n",
    "        return x*y\n",
    "\n",
    "\n",
    "item1 = Item()\n",
    "item1.name = \"Phone\"\n",
    "item1.price = 100\n",
    "item1.quantity = 5\n",
    "print(item1.calculate_total_price(item1.price,item1.quantity ))\n",
    "\n",
    "item2 = Item()\n",
    "item2.name = \"Laptop\"\n",
    "item2.price = 1000\n",
    "item2.quantity = 3\n",
    "print(item2.calculate_total_price(item2.price,item2.quantity ))\n"
   ]
  },
  {
   "cell_type": "code",
   "execution_count": 5,
   "metadata": {},
   "outputs": [
    {
     "name": "stdout",
     "output_type": "stream",
     "text": [
      "I AM CREATED\n",
      "I AM CREATED\n"
     ]
    }
   ],
   "source": [
    "# use of __init__\n",
    "class Item:\n",
    "    def __init__(self):\n",
    "        print(\"I AM CREATED\")\n",
    "\n",
    "    def calculate_total_price(self,x,y):\n",
    "        return x*y\n",
    "\n",
    "\n",
    "item1 = Item()\n",
    "item1.name = \"Phone\"\n",
    "item1.price = 100\n",
    "item1.quantity = 5\n",
    "\n",
    "item2 = Item()\n",
    "item2.name = \"Laptop\"\n",
    "item2.price = 1000\n",
    "item2.quantity = 3\n"
   ]
  },
  {
   "cell_type": "code",
   "execution_count": 7,
   "metadata": {},
   "outputs": [
    {
     "name": "stdout",
     "output_type": "stream",
     "text": [
      "Phone\n",
      "100\n",
      "5\n",
      "Laptop\n",
      "1000\n",
      "3\n",
      "500\n"
     ]
    }
   ],
   "source": [
    "# how to avoid creating attributes hard coded for each of the instances \n",
    "class Item:\n",
    "    def __init__(self, name, price, quantity):\n",
    "        self.name = name\n",
    "        self.price = price\n",
    "        self.quantity = quantity \n",
    "\n",
    "    def calculate_total_price(self):\n",
    "        return self.price*self.quantity\n",
    "\n",
    "\n",
    "item1 = Item(\"Phone\", 100, 5)\n",
    "\n",
    "item2 = Item(\"Laptop\",1000,3)\n",
    "\n",
    "print(item1.name)\n",
    "print(item1.price)\n",
    "print(item1.quantity)\n",
    "print(item2.name)\n",
    "print(item2.price)\n",
    "print(item2.quantity)\n",
    "print(item1.calculate_total_price())"
   ]
  }
 ],
 "metadata": {
  "kernelspec": {
   "display_name": "base",
   "language": "python",
   "name": "python3"
  },
  "language_info": {
   "codemirror_mode": {
    "name": "ipython",
    "version": 3
   },
   "file_extension": ".py",
   "mimetype": "text/x-python",
   "name": "python",
   "nbconvert_exporter": "python",
   "pygments_lexer": "ipython3",
   "version": "3.12.7"
  }
 },
 "nbformat": 4,
 "nbformat_minor": 2
}
