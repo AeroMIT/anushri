{
 "cells": [
  {
   "cell_type": "code",
   "execution_count": 31,
   "id": "d75e538f-ef93-415b-91b1-7896d3008312",
   "metadata": {},
   "outputs": [],
   "source": [
    "import cv2\n",
    "import numpy as np"
   ]
  },
  {
   "cell_type": "code",
   "execution_count": 34,
   "id": "c47e8334-5ed0-4be3-a155-553ad10f9c99",
   "metadata": {},
   "outputs": [],
   "source": [
    "img = cv2.imread(r\"C:\\Users\\ANUSHRI\\Downloads\\fruits opencv.jpeg\", cv2.IMREAD_COLOR)\n",
    "img = cv2.resize(img, (700,700))\n",
    "hsv = cv2.cvtColor(img, cv2.COLOR_BGR2HSV)\n",
    "\n",
    "kernel = np.ones((2,2), np.uint8)\n",
    "\n",
    "lower_purple = np.array([126, 150, 83])\n",
    "upper_purple = np.array([137, 255, 255])\n",
    "\n",
    "lower_red = np.array([0, 120, 70])\n",
    "upper_red = np.array([10, 255, 255])\n",
    "\n",
    "mask1 = cv2.inRange(hsv, lower_purple, upper_purple)\n",
    "erosion_p = cv2.erode(mask1, kernel, iterations = 1)\n",
    "dilation_p = cv2.dilate(erosion_p, kernel, iterations = 2)\n",
    "result_p = cv2.bitwise_and(img, img, mask = dilation_p)\n",
    "\n",
    "mask2 = cv2.inRange(hsv, lower_red, upper_red)\n",
    "dilation_r = cv2.dilate(mask2, kernel, iterations = 2)\n",
    "result_r = cv2.bitwise_and(img, img, mask = dilation_r)\n",
    "\n",
    "mask = mask1 + mask2\n",
    "final_mask = dilation_r + dilation_p\n",
    "\n",
    "result = cv2.bitwise_and(image, image, mask = final_mask)\n",
    "\n",
    "contours_p, _ = cv2.findContours(dilation_p, cv2.RETR_EXTERNAL, cv2.CHAIN_APPROX_SIMPLE)\n",
    "\n",
    "for cnt in contours_p:\n",
    "    x, y, w, h = cv2.boundingRect(cnt)\n",
    "    cv2.rectangle(image, (x-7, y-7), (x + w, y + h), (0, 255, 0), 2)\n",
    "    cv2.putText(image, \"Purple\", (x,y-10), cv2.FONT_HERSHEY_SIMPLEX, 0.5, (0,255,0), 2)\n",
    "\n",
    "contours_r, _ = cv2.findContours(dilation_r, cv2.RETR_EXTERNAL, cv2.CHAIN_APPROX_SIMPLE)\n",
    "\n",
    "\n",
    "for cnt in contours_r:\n",
    "    area = cv2.contourArea(cnt)\n",
    "\n",
    "    if 10 < area < 200:\n",
    "        x, y, w, h = cv2.boundingRect(cnt)\n",
    "        cv2.rectangle(image, (x, y), (x + w, y + h), (0, 255, 0), 2)\n",
    "        cv2.putText(image, \"Red\", (x, y-5), cv2.FONT_HERSHEY_SIMPLEX, 0.5, (0, 255, 0),2)\n",
    "\n",
    "cv2.imshow('result', result)\n",
    "cv2.imshow('original', img)\n",
    "\n",
    "cv2.waitKey(0)\n",
    "cv2.destroyAllWindows()\n",
    " "
   ]
  },
  {
   "cell_type": "code",
   "execution_count": null,
   "id": "ec85713e-50bd-4fec-afe7-a94fbc36b80a",
   "metadata": {},
   "outputs": [],
   "source": []
  }
 ],
 "metadata": {
  "kernelspec": {
   "display_name": "Python 3 (ipykernel)",
   "language": "python",
   "name": "python3"
  },
  "language_info": {
   "codemirror_mode": {
    "name": "ipython",
    "version": 3
   },
   "file_extension": ".py",
   "mimetype": "text/x-python",
   "name": "python",
   "nbconvert_exporter": "python",
   "pygments_lexer": "ipython3",
   "version": "3.13.1"
  }
 },
 "nbformat": 4,
 "nbformat_minor": 5
}
